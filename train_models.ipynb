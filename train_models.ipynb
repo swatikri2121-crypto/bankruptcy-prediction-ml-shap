{
 "cells": [
  {
   "cell_type": "code",
   "execution_count": 2,
   "id": "b15533a1-8e1f-4602-8859-4d5eb26de582",
   "metadata": {},
   "outputs": [
    {
     "name": "stdout",
     "output_type": "stream",
     "text": [
      "All models and scaler saved successfully!\n"
     ]
    }
   ],
   "source": [
    "import pandas as pd\n",
    "import joblib\n",
    "from sklearn.model_selection import train_test_split\n",
    "from sklearn.preprocessing import StandardScaler\n",
    "from sklearn.linear_model import LogisticRegression\n",
    "from sklearn.ensemble import RandomForestClassifier\n",
    "from sklearn.neural_network import MLPClassifier\n",
    "from xgboost import XGBClassifier\n",
    "from catboost import CatBoostClassifier\n",
    "\n",
    "df = pd.read_csv(\"data.csv\")\n",
    "\n",
    "\n",
    "X = df.drop(columns=[\"Bankrupt?\"])\n",
    "y = df[\"Bankrupt?\"]\n",
    "\n",
    "\n",
    "X_train, X_test, y_train, y_test = train_test_split(X, y, test_size=0.2, random_state=42, stratify=y)\n",
    "\n",
    "\n",
    "scaler = StandardScaler()\n",
    "X_train_scaled = scaler.fit_transform(X_train)\n",
    "X_test_scaled = scaler.transform(X_test)\n",
    "\n",
    "\n",
    "joblib.dump(scaler, \"scaler.pkl\")\n",
    "\n",
    "\n",
    "log_reg = LogisticRegression(max_iter=1000, class_weight=\"balanced\", random_state=42)\n",
    "log_reg.fit(X_train_scaled, y_train)\n",
    "joblib.dump(log_reg, \"log_reg.pkl\")\n",
    "\n",
    "\n",
    "rf = RandomForestClassifier(n_estimators=300, class_weight=\"balanced\", random_state=42)\n",
    "rf.fit(X_train, y_train)  # RF doesn’t need scaling\n",
    "joblib.dump(rf, \"rf.pkl\")\n",
    "\n",
    "\n",
    "scale_pos_weight = (y_train.value_counts()[0] / y_train.value_counts()[1])  # Handle imbalance\n",
    "xgb = XGBClassifier(\n",
    "    eval_metric=\"logloss\",\n",
    "    scale_pos_weight=scale_pos_weight,\n",
    "    random_state=42\n",
    ")\n",
    "xgb.fit(X_train, y_train)\n",
    "joblib.dump(xgb, \"xgb.pkl\")\n",
    "\n",
    "\n",
    "cat = CatBoostClassifier(iterations=500, depth=6, learning_rate=0.05, verbose=0, random_state=42)\n",
    "cat.fit(X_train, y_train)\n",
    "joblib.dump(cat, \"cat.pkl\")\n",
    "# Neural Network (MLP)\n",
    "nn = MLPClassifier(hidden_layer_sizes=(64, 32), max_iter=500, random_state=42)\n",
    "nn.fit(X_train_scaled, y_train)\n",
    "joblib.dump(nn, \"nn.pkl\")\n",
    "\n",
    "print(\"All models and scaler saved successfully!\")"
   ]
  },
  {
   "cell_type": "code",
   "execution_count": null,
   "id": "d5ad8e41-0a68-4f4d-bce4-4ca42397a4a0",
   "metadata": {},
   "outputs": [],
   "source": []
  }
 ],
 "metadata": {
  "kernelspec": {
   "display_name": "Python 3 (ipykernel)",
   "language": "python",
   "name": "python3"
  },
  "language_info": {
   "codemirror_mode": {
    "name": "ipython",
    "version": 3
   },
   "file_extension": ".py",
   "mimetype": "text/x-python",
   "name": "python",
   "nbconvert_exporter": "python",
   "pygments_lexer": "ipython3",
   "version": "3.13.7"
  }
 },
 "nbformat": 4,
 "nbformat_minor": 5
}
